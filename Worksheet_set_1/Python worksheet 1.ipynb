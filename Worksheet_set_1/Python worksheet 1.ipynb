{
 "cells": [
  {
   "cell_type": "markdown",
   "id": "84e06e8a",
   "metadata": {},
   "source": [
    "# PYTHON - WORKSHEET 1"
   ]
  },
  {
   "cell_type": "raw",
   "id": "8605af6c",
   "metadata": {},
   "source": [
    "Q1 --> Option C - % --> % operator is used to calculate remainder in a division"
   ]
  },
  {
   "cell_type": "raw",
   "id": "c26c2d4d",
   "metadata": {},
   "source": [
    "Q2 --> Option B - 0 --> // operator is used for floor division and it will remove the fractional part so 2//3 will give 0 answer"
   ]
  },
  {
   "cell_type": "raw",
   "id": "9190f9df",
   "metadata": {},
   "source": [
    "Q3 --> Option C - 24 --> <<-left shift operaotr means left shift by n is equal to multiply with pow(2,n) so 6<<2 means left shift by 2 \n",
    "                     is equal to multiply with pow(2,2)"
   ]
  },
  {
   "cell_type": "raw",
   "id": "7c19728f",
   "metadata": {},
   "source": [
    "Q4 --> Option A - 2 --> &-Bitwise AND operator means perform AND operation between the binary numbers of the given digits"
   ]
  },
  {
   "cell_type": "raw",
   "id": "6781e601",
   "metadata": {},
   "source": [
    "Q5 --> Option D - 6 --> |-Bitwise OR operator means perform OR operation between the binary numbers of the given digits"
   ]
  },
  {
   "cell_type": "raw",
   "id": "0a74e646",
   "metadata": {},
   "source": [
    "Q6 --> Option C - the finally block will be executed no matter if the try block raises an error or not."
   ]
  },
  {
   "cell_type": "raw",
   "id": "cca295b2",
   "metadata": {},
   "source": [
    "Q7 --> Option A - It is used to raise an exception. --> raise keyword is used to raise an exception."
   ]
  },
  {
   "cell_type": "raw",
   "id": "b1a28cd8",
   "metadata": {},
   "source": [
    "Q8 --> Option C - in defining a generator --> common use case of yield keyword in python"
   ]
  },
  {
   "cell_type": "raw",
   "id": "28f46e85",
   "metadata": {},
   "source": [
    "Q9 --> Option A - _abc  ---> following are the valid variable names\n",
    "       Option B - 1abc\n",
    "       Option C - abc2"
   ]
  },
  {
   "cell_type": "raw",
   "id": "6be12d41",
   "metadata": {},
   "source": [
    "Q10 --> Option A - yield  --> following are the keywords in python\n",
    "        Option B - raise"
   ]
  },
  {
   "cell_type": "markdown",
   "id": "bc1d87a0",
   "metadata": {},
   "source": [
    "# Q11 - Program to find the factorial of a number"
   ]
  },
  {
   "cell_type": "code",
   "execution_count": 1,
   "id": "5e960736",
   "metadata": {},
   "outputs": [
    {
     "name": "stdout",
     "output_type": "stream",
     "text": [
      "Enter a number: 7\n",
      "The factorial of 7 is 5040\n"
     ]
    }
   ],
   "source": [
    "#Python program to find the factorial of a number provided by the user.\n",
    "\n",
    "#Take input from the user\n",
    "num = int(input(\"Enter a number: \"))\n",
    "\n",
    "factorial = 1\n",
    "\n",
    "#check if the number is positive, negative or zero\n",
    "if num < 0:                                          #negative numbers\n",
    "    print(\"The factorial of negative numbers don't exist\")\n",
    "elif num == 0:                                       #zero\n",
    "    print(\"The factorial of 0 is 1\")\n",
    "else:                                               #positive numbers\n",
    "    for i in range(1,num + 1):\n",
    "        factorial = factorial*i\n",
    "    print(\"The factorial of\", num, \"is\", factorial)\n",
    "    "
   ]
  },
  {
   "cell_type": "markdown",
   "id": "4799ea3a",
   "metadata": {},
   "source": [
    "# Q12 - Program to find whether a number is prime or composite"
   ]
  },
  {
   "cell_type": "code",
   "execution_count": 2,
   "id": "fc4bf1f7",
   "metadata": {},
   "outputs": [
    {
     "name": "stdout",
     "output_type": "stream",
     "text": [
      "Enter a number: 37\n",
      "37 is a PRIME number\n"
     ]
    }
   ],
   "source": [
    "#Python program to find whether a number provided by the user is prime or composite.\n",
    "\n",
    "#Take input from the user\n",
    "num = int(input(\"Enter a number: \"))\n",
    "    \n",
    "if num == 0 or num == 1:                 #0 or 1 is neither a prime nor a composite number\n",
    "    print(num,\"is neither a prime nor a composite number\")\n",
    "else:\n",
    "    for i in range(2,num):\n",
    "        if(num % i == 0):                #Composite numbers divisible by 1 and by itself and one more positive integer\n",
    "            print(num,\"is a COMPOSITE number\")\n",
    "            break\n",
    "    else:                                #Prime numbers divisible only by 1 and by themselves\n",
    "        print(num,\"is a PRIME number\")"
   ]
  },
  {
   "cell_type": "markdown",
   "id": "017d2b58",
   "metadata": {},
   "source": [
    "# Q13 -  Program to check whether a given string is palindrome or not"
   ]
  },
  {
   "cell_type": "code",
   "execution_count": 3,
   "id": "1e776c25",
   "metadata": {},
   "outputs": [
    {
     "name": "stdout",
     "output_type": "stream",
     "text": [
      "Please enter your own text : wow\n",
      "This string is palindrome\n"
     ]
    }
   ],
   "source": [
    "#Python program to check whether a given string provided by the user is palindrome or not.\n",
    "\n",
    "#Take input string from the user\n",
    "string = input(\"Please enter your own text : \")\n",
    "\n",
    "if(string == string[:: - 1]):               #if string and the reverse of that string is same then that string is palindrome\n",
    "    print(\"This string is palindrome\")\n",
    "else:\n",
    "    print(\"This string is not a palindrome\")\n"
   ]
  },
  {
   "cell_type": "markdown",
   "id": "934a1662",
   "metadata": {},
   "source": [
    "# Q14 - Program to get the third side of right-angled triangle from two given sides"
   ]
  },
  {
   "cell_type": "code",
   "execution_count": 4,
   "id": "6e18290c",
   "metadata": {},
   "outputs": [
    {
     "name": "stdout",
     "output_type": "stream",
     "text": [
      "Input lengths of Perpendicular and Base:\n",
      "a: 4\n",
      "b: 5\n",
      "The length of the Hypotenuse is: 6.4031242374328485\n"
     ]
    }
   ],
   "source": [
    "#Python program to get the third side of right-angled triangle from two given sides\n",
    "\n",
    "from math import sqrt\n",
    "\n",
    "print(\"Input lengths of Perpendicular and Base:\")\n",
    "\n",
    "a = float(input(\"a: \"))            #Perpendicular\n",
    "b = float(input(\"b: \"))            #Base\n",
    "\n",
    "#using pythagoras theorem --> Hypotenuse^2 = Perpendicular^2 + Base^2 --> c^2 = a^2 + b^2  \n",
    "c = sqrt(a**2 + b**2)              #Hypotenuse        \n",
    "\n",
    "print(\"The length of the Hypotenuse is:\", c )"
   ]
  },
  {
   "cell_type": "markdown",
   "id": "0645061c",
   "metadata": {},
   "source": [
    "# Q15 - Program to print the frequency of each of the characters present in a given string"
   ]
  },
  {
   "cell_type": "code",
   "execution_count": 5,
   "id": "b02281b0",
   "metadata": {},
   "outputs": [
    {
     "name": "stdout",
     "output_type": "stream",
     "text": [
      "Please enter your string : India\n",
      "The frequency of each of the characters is: {'i': 2, 'n': 1, 'd': 1, 'a': 1}\n"
     ]
    }
   ],
   "source": [
    "#Python program to print the frequency of each of the characters present in a given string\n",
    "\n",
    "string = input(\"Please enter your string : \").lower()\n",
    "\n",
    "dic = {} \n",
    "  \n",
    "for i in string: \n",
    "    if i in dic: \n",
    "        dic[i] += 1\n",
    "    else: \n",
    "        dic[i] = 1\n",
    "\n",
    "print(\"The frequency of each of the characters is:\",dic)\n"
   ]
  },
  {
   "cell_type": "code",
   "execution_count": null,
   "id": "f048ec5b",
   "metadata": {},
   "outputs": [],
   "source": []
  }
 ],
 "metadata": {
  "kernelspec": {
   "display_name": "Python 3 (ipykernel)",
   "language": "python",
   "name": "python3"
  },
  "language_info": {
   "codemirror_mode": {
    "name": "ipython",
    "version": 3
   },
   "file_extension": ".py",
   "mimetype": "text/x-python",
   "name": "python",
   "nbconvert_exporter": "python",
   "pygments_lexer": "ipython3",
   "version": "3.9.7"
  }
 },
 "nbformat": 4,
 "nbformat_minor": 5
}
